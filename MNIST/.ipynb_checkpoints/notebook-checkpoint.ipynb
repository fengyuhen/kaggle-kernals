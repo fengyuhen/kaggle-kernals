{
 "cells": [
  {
   "cell_type": "markdown",
   "metadata": {
    "_cell_guid": "a7b20a02-efdd-491d-a329-5a60e868f73e",
    "_uuid": "e061f2a35b05557784edfaceebbe874cfd60db52"
   },
   "source": [
    "## MNIST DL CNN learning demo"
   ]
  },
  {
   "cell_type": "markdown",
   "metadata": {
    "_cell_guid": "418e3b0a-31f7-4b9b-93c9-d03011584dfc",
    "_uuid": "9ea376f1fe3e7a53ea62f45ee4d276da7a373797"
   },
   "source": [
    "## Referance:\n",
    "https://www.kaggle.com/toregil/welcome-to-deep-learning-cnn-99\n",
    "\n",
    "https://www.kaggle.com/yassineghouzam/introduction-to-cnn-keras-0-997-top-6/notebook\n"
   ]
  },
  {
   "cell_type": "code",
   "execution_count": 4,
   "metadata": {
    "_cell_guid": "79c7e3d0-c299-4dcb-8224-4455121ee9b0",
    "_uuid": "d629ff2d2480ee46fbb7e2d37f6b5fab8052498a"
   },
   "outputs": [
    {
     "name": "stderr",
     "output_type": "stream",
     "text": [
      "Using TensorFlow backend.\n"
     ]
    }
   ],
   "source": [
    "import numpy as np\n",
    "import pandas as pd\n",
    "import tensorflow as tf\n",
    "import seaborn as sns\n",
    "import matplotlib.pyplot as plt\n",
    "from sklearn.model_selection import train_test_split\n",
    "from keras.utils.np_utils import to_categorical"
   ]
  },
  {
   "cell_type": "code",
   "execution_count": 5,
   "metadata": {
    "_cell_guid": "fa4504d3-00e2-4061-9916-0f45e4761d27",
    "_uuid": "286f7e25ef2ab6cccb14f3628de84a706b6c95fe",
    "collapsed": true
   },
   "outputs": [],
   "source": [
    "from keras.utils.np_utils import to_categorical # convert to one-hot-encoding\n",
    "from keras.models import Sequential\n",
    "from keras.layers import Dense, Dropout, Flatten, Conv2D, MaxPool2D, BatchNormalization\n",
    "from keras.optimizers import Adam\n",
    "from keras.preprocessing.image import ImageDataGenerator\n",
    "from keras.callbacks import LearningRateScheduler"
   ]
  },
  {
   "cell_type": "code",
   "execution_count": 10,
   "metadata": {
    "_cell_guid": "8028dc1e-6d6b-468f-a779-bb7c4aeda133",
    "_uuid": "2430b299e9455404723cdbaecc8d55331af54aeb",
    "collapsed": true
   },
   "outputs": [],
   "source": [
    "train_file = \"./input/train.csv\"\n",
    "test_file = \"./input/test.csv\"\n",
    "output_file = \"submission.csv\""
   ]
  },
  {
   "cell_type": "code",
   "execution_count": 22,
   "metadata": {
    "_cell_guid": "a163ffd9-7ac3-4e79-aafc-8fb88c5937d8",
    "_uuid": "ff0f135815d49c1103a78fe7258bc07688fe4570"
   },
   "outputs": [],
   "source": [
    "# train set\n",
    "train = pd.read_csv(train_file)\n",
    "train_Y = train[\"label\"]\n",
    "train_X = train.drop(labels = [\"label\"],axis = 1)"
   ]
  },
  {
   "cell_type": "code",
   "execution_count": 23,
   "metadata": {
    "_cell_guid": "2275852a-ce1d-4809-8638-0d6f3d86fa86",
    "_uuid": "d14aa0791133eef49bacf62697767c449b41596f",
    "collapsed": true
   },
   "outputs": [],
   "source": [
    "# test set\n",
    "test = pd.read_csv(test_file)"
   ]
  },
  {
   "cell_type": "code",
   "execution_count": 24,
   "metadata": {
    "_cell_guid": "87350a86-27ee-47d3-b4aa-8b99dd32179f",
    "_uuid": "a74d4dd009fafc5f2d87fca577404756443a41e0",
    "scrolled": true
   },
   "outputs": [
    {
     "data": {
      "text/plain": [
       "1    4684\n",
       "7    4401\n",
       "3    4351\n",
       "9    4188\n",
       "2    4177\n",
       "6    4137\n",
       "0    4132\n",
       "4    4072\n",
       "8    4063\n",
       "5    3795\n",
       "Name: label, dtype: int64"
      ]
     },
     "execution_count": 24,
     "metadata": {},
     "output_type": "execute_result"
    }
   ],
   "source": [
    "train_Y.value_counts()"
   ]
  },
  {
   "cell_type": "code",
   "execution_count": 25,
   "metadata": {
    "_cell_guid": "ce94dfdb-7244-49ee-8088-f0e688a54391",
    "_uuid": "79627fdf02afb9fd0b8a136679a4f74b7ed2825d"
   },
   "outputs": [
    {
     "data": {
      "text/plain": [
       "count       784\n",
       "unique        1\n",
       "top       False\n",
       "freq        784\n",
       "dtype: object"
      ]
     },
     "execution_count": 25,
     "metadata": {},
     "output_type": "execute_result"
    }
   ],
   "source": [
    "test.isnull().any().describe()"
   ]
  },
  {
   "cell_type": "code",
   "execution_count": 26,
   "metadata": {
    "_cell_guid": "de498f9c-5d09-4c2f-84a3-6abec5b16371",
    "_uuid": "8542ce93137e1df5a8dd3a762df75c04d02cc261",
    "collapsed": true
   },
   "outputs": [],
   "source": [
    "# Normalization\n",
    "train_X = train_X / 255."
   ]
  },
  {
   "cell_type": "code",
   "execution_count": 27,
   "metadata": {
    "_cell_guid": "9ab87ac3-d12c-438e-aaab-4fe3ea7f2b11",
    "_uuid": "4d873811502fd8fa1038e78e68b06f4de41d2c1b",
    "collapsed": true
   },
   "outputs": [],
   "source": [
    "# the image should be width = height = 28, channel = 1\n",
    "# reshape\n",
    "train_X = train_X.values.reshape(-1, 28, 28, 1)"
   ]
  },
  {
   "cell_type": "code",
   "execution_count": 28,
   "metadata": {
    "_cell_guid": "27fecdf4-ab05-47d9-b159-f2e2125f3bc5",
    "_uuid": "0b77e03ca2afb227b6995ca0ce4d49b7251cb164"
   },
   "outputs": [
    {
     "name": "stdout",
     "output_type": "stream",
     "text": [
      "(42000, 28, 28, 1)\n"
     ]
    }
   ],
   "source": [
    "print(train_X.shape)"
   ]
  },
  {
   "cell_type": "code",
   "execution_count": 29,
   "metadata": {
    "_cell_guid": "1170b34e-584d-4a1b-bd2b-1ad0af49507c",
    "_kg_hide-input": false,
    "_kg_hide-output": false,
    "_uuid": "52a0e537524cb271e1547b3840bc360dccc098db",
    "collapsed": true
   },
   "outputs": [],
   "source": [
    "# lable encoding to one-hot key\n",
    "# example 2 -> [0,0,1,0,0,0,0,0,0,0]\n",
    "train_Y = to_categorical(train_Y, num_classes=10)"
   ]
  },
  {
   "cell_type": "code",
   "execution_count": 30,
   "metadata": {
    "_cell_guid": "707993ee-8e8a-43a3-8de2-18082f887f2b",
    "_uuid": "96baf996690f95408f6ff5d35bf099d1c3b5c996",
    "scrolled": true
   },
   "outputs": [
    {
     "data": {
      "text/plain": [
       "array([[0., 1., 0., 0., 0., 0., 0., 0., 0., 0.],\n",
       "       [1., 0., 0., 0., 0., 0., 0., 0., 0., 0.],\n",
       "       [0., 1., 0., 0., 0., 0., 0., 0., 0., 0.],\n",
       "       [0., 0., 0., 0., 1., 0., 0., 0., 0., 0.],\n",
       "       [1., 0., 0., 0., 0., 0., 0., 0., 0., 0.]])"
      ]
     },
     "execution_count": 30,
     "metadata": {},
     "output_type": "execute_result"
    }
   ],
   "source": [
    "train_Y[:5]"
   ]
  },
  {
   "cell_type": "code",
   "execution_count": 31,
   "metadata": {
    "_cell_guid": "bee5c18a-861a-43fb-b4a2-68a7d15b8086",
    "_uuid": "d61f8dab2351e8f3ed02dc1642cb063df4bdcd68",
    "collapsed": true
   },
   "outputs": [],
   "source": [
    "seed = 2"
   ]
  },
  {
   "cell_type": "code",
   "execution_count": 32,
   "metadata": {
    "_cell_guid": "bac65293-ee64-40d2-8dfc-2927f4b53c4d",
    "_uuid": "529e0ff08a3bd56e8db4aa9afc67691bce2b2be7",
    "collapsed": true
   },
   "outputs": [],
   "source": [
    "# split the train set into train set into train and dev set\n",
    "train_X, dev_X, train_Y, dev_Y = train_test_split(train_X, train_Y, test_size=0.1, random_state=seed)"
   ]
  },
  {
   "cell_type": "code",
   "execution_count": 33,
   "metadata": {
    "_cell_guid": "649d5561-1728-4f35-9a33-eb615461e7d4",
    "_uuid": "ebdd03319c80a597e6c3073b3e236c35ee519888",
    "collapsed": true
   },
   "outputs": [],
   "source": [
    "fig = plt.imshow(train_X[0][:,:,0])"
   ]
  },
  {
   "cell_type": "markdown",
   "metadata": {
    "_cell_guid": "c062e318-4955-4c70-a89a-477a73d82527",
    "_uuid": "b1b5ede63464db993c509ba64215eefdad4da418"
   },
   "source": [
    "## CNN"
   ]
  },
  {
   "cell_type": "code",
   "execution_count": 34,
   "metadata": {
    "_cell_guid": "cb5cfa06-9ba9-45a8-b6af-24f6aa2005d0",
    "_uuid": "d5b0e363a567417d34e66c4bec04455c3452440f",
    "collapsed": true
   },
   "outputs": [],
   "source": [
    "model = Sequential()\n",
    "\n",
    "model.add(Conv2D(filters=16, kernel_size=(3,3), activation='relu',\n",
    "                input_shape=(28,28,1)))\n",
    "model.add(BatchNormalization())\n",
    "model.add(Conv2D(filters=16, kernel_size=(3,3), activation='relu'))\n",
    "model.add(BatchNormalization())\n",
    "model.add(MaxPool2D(strides=(2,2)))\n",
    "model.add(Dropout(0.25))\n",
    "\n",
    "model.add(Conv2D(filters=32, kernel_size=(3,3), activation='relu'))\n",
    "model.add(BatchNormalization())\n",
    "model.add(Conv2D(filters=32, kernel_size=(3,3), activation='relu'))\n",
    "model.add(BatchNormalization())\n",
    "model.add(MaxPool2D(strides=(2,2)))\n",
    "model.add(Dropout(0.25))\n",
    "\n",
    "# fully connection\n",
    "model.add(Flatten())\n",
    "model.add(Dense(512, activation='relu'))\n",
    "model.add(Dropout(0.25))\n",
    "model.add(Dense(1024, activation='relu'))\n",
    "model.add(Dropout(0.5))\n",
    "model.add(Dense(10, activation='softmax'))"
   ]
  },
  {
   "cell_type": "code",
   "execution_count": 35,
   "metadata": {
    "_cell_guid": "608600de-a79c-4f6f-833e-7cae5ccb7fc6",
    "_uuid": "80f2999e7261c5d5b69193662a0d4cd81ca0bf45",
    "collapsed": true
   },
   "outputs": [],
   "source": [
    "datagen = ImageDataGenerator(zoom_range=0.1, height_shift_range=0.1, width_shift_range=0.1, rotation_range=10)"
   ]
  },
  {
   "cell_type": "code",
   "execution_count": 36,
   "metadata": {
    "_cell_guid": "dfa39e25-0189-43f9-b7d3-f4eee741a55c",
    "_uuid": "eb71a15a6dc62e47888620c567bae74a1c58d9da",
    "collapsed": true
   },
   "outputs": [],
   "source": [
    "model.compile(loss='categorical_crossentropy', optimizer=Adam(lr=1e-4), metrics=['accuracy'])"
   ]
  },
  {
   "cell_type": "markdown",
   "metadata": {
    "_cell_guid": "0de21174-c7e5-4ffa-8416-bb1e091f5055",
    "_uuid": "b488d5100564336450047d5388dac230d13f8daa"
   },
   "source": [
    "学习速率衰减"
   ]
  },
  {
   "cell_type": "code",
   "execution_count": 37,
   "metadata": {
    "_cell_guid": "245c56de-d7a3-460a-a7c0-7729b14eb2b7",
    "_uuid": "4a55b803a3573ff299a45e914713cb2acf6e6a18",
    "collapsed": true
   },
   "outputs": [],
   "source": [
    "annealer = LearningRateScheduler(lambda x: 1e-3 * 0.9 ** x)"
   ]
  },
  {
   "cell_type": "code",
   "execution_count": 38,
   "metadata": {
    "_cell_guid": "5e4390ef-99b6-4d18-947f-79dcac6fd27d",
    "_uuid": "136c732a8eff246693ed41dc3c52bf9a5717111b"
   },
   "outputs": [
    {
     "name": "stdout",
     "output_type": "stream",
     "text": [
      "Epoch 1/20\n",
      " - 32s - loss: 0.7997 - acc: 0.7479 - val_loss: 0.1102 - val_acc: 0.9650\n",
      "Epoch 2/20\n",
      " - 34s - loss: 0.3188 - acc: 0.9025 - val_loss: 0.0647 - val_acc: 0.9800\n",
      "Epoch 3/20\n",
      " - 32s - loss: 0.2261 - acc: 0.9310 - val_loss: 0.0685 - val_acc: 0.9775\n",
      "Epoch 4/20\n",
      " - 41s - loss: 0.2066 - acc: 0.9373 - val_loss: 0.0638 - val_acc: 0.9825\n",
      "Epoch 5/20\n",
      " - 33s - loss: 0.1712 - acc: 0.9491 - val_loss: 0.0477 - val_acc: 0.9800\n",
      "Epoch 6/20\n",
      " - 34s - loss: 0.1685 - acc: 0.9520 - val_loss: 0.0403 - val_acc: 0.9875\n",
      "Epoch 7/20\n",
      " - 37s - loss: 0.1442 - acc: 0.9591 - val_loss: 0.0248 - val_acc: 0.9950\n",
      "Epoch 8/20\n",
      " - 35s - loss: 0.1357 - acc: 0.9596 - val_loss: 0.0254 - val_acc: 0.9925\n",
      "Epoch 9/20\n",
      " - 34s - loss: 0.1226 - acc: 0.9616 - val_loss: 0.0215 - val_acc: 0.9950\n",
      "Epoch 10/20\n",
      " - 36s - loss: 0.1072 - acc: 0.9684 - val_loss: 0.0229 - val_acc: 0.9950\n",
      "Epoch 11/20\n",
      " - 43s - loss: 0.1099 - acc: 0.9679 - val_loss: 0.0240 - val_acc: 0.9900\n",
      "Epoch 12/20\n",
      " - 43s - loss: 0.0991 - acc: 0.9700 - val_loss: 0.0267 - val_acc: 0.9900\n",
      "Epoch 13/20\n",
      " - 35s - loss: 0.0969 - acc: 0.9721 - val_loss: 0.0240 - val_acc: 0.9950\n",
      "Epoch 14/20\n",
      " - 37s - loss: 0.0886 - acc: 0.9764 - val_loss: 0.0128 - val_acc: 0.9925\n",
      "Epoch 15/20\n",
      " - 37s - loss: 0.0854 - acc: 0.9747 - val_loss: 0.0123 - val_acc: 0.9975\n",
      "Epoch 16/20\n",
      " - 37s - loss: 0.0858 - acc: 0.9740 - val_loss: 0.0185 - val_acc: 0.9975\n",
      "Epoch 17/20\n",
      " - 45s - loss: 0.0865 - acc: 0.9744 - val_loss: 0.0231 - val_acc: 0.9950\n",
      "Epoch 18/20\n",
      " - 44s - loss: 0.0849 - acc: 0.9754 - val_loss: 0.0216 - val_acc: 0.9925\n",
      "Epoch 19/20\n",
      " - 46s - loss: 0.0781 - acc: 0.9785 - val_loss: 0.0218 - val_acc: 0.9975\n",
      "Epoch 20/20\n",
      " - 45s - loss: 0.0688 - acc: 0.9804 - val_loss: 0.0092 - val_acc: 0.9975\n"
     ]
    }
   ],
   "source": [
    "hist = model.fit_generator(datagen.flow(train_X, train_Y, batch_size=16),\n",
    "                           steps_per_epoch=500,\n",
    "                           epochs=20, #Increase this when not on Kaggle kernel\n",
    "                           verbose=2,  #1 for ETA, 0 for silent\n",
    "                           validation_data=(dev_X[:400,:], dev_Y[:400,:]), #For speed\n",
    "                           callbacks=[annealer])"
   ]
  },
  {
   "cell_type": "code",
   "execution_count": 39,
   "metadata": {
    "_cell_guid": "f6745396-a151-412d-a388-d0473b17326a",
    "_uuid": "1aa87705603ad7ca452ee25fbe1a7b5b682d0665"
   },
   "outputs": [
    {
     "name": "stdout",
     "output_type": "stream",
     "text": [
      "Final loss: 0.0249, final accuracy: 0.9917\n"
     ]
    }
   ],
   "source": [
    "final_loss, final_acc = model.evaluate(dev_X, dev_Y, verbose=0)\n",
    "print(\"Final loss: {0:.4f}, final accuracy: {1:.4f}\".format(final_loss, final_acc))"
   ]
  },
  {
   "cell_type": "code",
   "execution_count": 41,
   "metadata": {
    "_cell_guid": "f1137291-20bc-485e-a9a2-15c6217cd73e",
    "_uuid": "fac62743bc7b1deb4590c69e1e2f3dea4069b3fc"
   },
   "outputs": [
    {
     "data": {
      "image/png": "[encoded data removed]",
      "text/plain": [
       "<Figure size 432x288 with 1 Axes>"
      ]
     },
     "metadata": {},
     "output_type": "display_data"
    },
    {
     "data": {
      "image/png": "[encoded data removed]",
      "text/plain": [
       "<Figure size 432x288 with 1 Axes>"
      ]
     },
     "metadata": {},
     "output_type": "display_data"
    }
   ],
   "source": [
    "plt.plot(hist.history['loss'], color='b')\n",
    "plt.plot(hist.history['val_loss'], color='r')\n",
    "plt.show()\n",
    "plt.plot(hist.history['acc'], color='b')\n",
    "plt.plot(hist.history['val_acc'], color='r')\n",
    "plt.show()"
   ]
  },
  {
   "cell_type": "code",
   "execution_count": 42,
   "metadata": {
    "_cell_guid": "ca9f107e-ad40-4d0e-8af9-8df9ef42ef41",
    "_uuid": "2fb994e464a7164b4b554dacc9adca5ebb114805",
    "collapsed": true
   },
   "outputs": [],
   "source": [
    "mnist_testset = np.loadtxt(test_file, skiprows=1, dtype='int', delimiter=',')\n",
    "x_test = mnist_testset.astype(\"float32\")\n",
    "x_test = x_test.reshape(-1, 28, 28, 1)/255."
   ]
  },
  {
   "cell_type": "code",
   "execution_count": 43,
   "metadata": {
    "_cell_guid": "64c6871c-3cc1-425b-ab1c-634b34916a7d",
    "_uuid": "5ec4620ac4e814d1ab1743d4eb3acf6ec95dd6c4",
    "collapsed": true
   },
   "outputs": [],
   "source": [
    "y_hat = model.predict(x_test, batch_size=64)"
   ]
  },
  {
   "cell_type": "code",
   "execution_count": 44,
   "metadata": {
    "_cell_guid": "80c0abc5-c06c-49a3-8def-501d757f58af",
    "_uuid": "24e33bf823a9d59b0772ec2ec60f2ecb37287691",
    "collapsed": true
   },
   "outputs": [],
   "source": [
    "y_pred = np.argmax(y_hat,axis=1)"
   ]
  },
  {
   "cell_type": "code",
   "execution_count": 45,
   "metadata": {
    "_cell_guid": "2b3bfd76-a403-4d1a-b088-ecc878248c13",
    "_uuid": "eb193598f16567c031d6509841edc0fb18469c47",
    "collapsed": true
   },
   "outputs": [],
   "source": [
    "with open(output_file, 'w') as f :\n",
    "    f.write('ImageId,Label\\n')\n",
    "    for i in range(len(y_pred)) :\n",
    "        f.write(\"\".join([str(i+1),',',str(y_pred[i]),'\\n']))"
   ]
  }
 ],
 "metadata": {
  "kernelspec": {
   "display_name": "Python 3",
   "language": "python",
   "name": "python3"
  },
  "language_info": {
   "codemirror_mode": {
    "name": "ipython",
    "version": 3
   },
   "file_extension": ".py",
   "mimetype": "text/x-python",
   "name": "python",
   "nbconvert_exporter": "python",
   "pygments_lexer": "ipython3",
   "version": "3.6.3"
  }
 },
 "nbformat": 4,
 "nbformat_minor": 1
}
