{
  "cells": [
    {
      "metadata": {
        "_uuid": "e061f2a35b05557784edfaceebbe874cfd60db52",
        "_cell_guid": "a7b20a02-efdd-491d-a329-5a60e868f73e"
      },
      "cell_type": "markdown",
      "source": "## This is a learning demo"
    },
    {
      "metadata": {
        "_uuid": "9ea376f1fe3e7a53ea62f45ee4d276da7a373797",
        "_cell_guid": "418e3b0a-31f7-4b9b-93c9-d03011584dfc"
      },
      "cell_type": "markdown",
      "source": "## Referance:\nhttps://www.kaggle.com/toregil/welcome-to-deep-learning-cnn-99\n\nhttps://www.kaggle.com/yassineghouzam/introduction-to-cnn-keras-0-997-top-6/notebook\n"
    },
    {
      "metadata": {
        "_uuid": "d629ff2d2480ee46fbb7e2d37f6b5fab8052498a",
        "_cell_guid": "79c7e3d0-c299-4dcb-8224-4455121ee9b0",
        "trusted": true
      },
      "cell_type": "code",
      "source": "import numpy as np\nimport pandas as pd\nimport tensorflow as tf\nimport seaborn as sns\nimport matplotlib.pyplot as plt\nfrom sklearn.model_selection import train_test_split\nfrom keras.utils.np_utils import to_categorical",
      "execution_count": 1,
      "outputs": [
        {
          "output_type": "stream",
          "text": "/opt/conda/lib/python3.6/site-packages/h5py/__init__.py:36: FutureWarning: Conversion of the second argument of issubdtype from `float` to `np.floating` is deprecated. In future, it will be treated as `np.float64 == np.dtype(float).type`.\n  from ._conv import register_converters as _register_converters\nUsing TensorFlow backend.\n",
          "name": "stderr"
        }
      ]
    },
    {
      "metadata": {
        "_uuid": "286f7e25ef2ab6cccb14f3628de84a706b6c95fe",
        "collapsed": true,
        "_cell_guid": "fa4504d3-00e2-4061-9916-0f45e4761d27",
        "trusted": true
      },
      "cell_type": "code",
      "source": "from keras.utils.np_utils import to_categorical # convert to one-hot-encoding\nfrom keras.models import Sequential\nfrom keras.layers import Dense, Dropout, Flatten, Conv2D, MaxPool2D, BatchNormalization\nfrom keras.optimizers import Adam\nfrom keras.preprocessing.image import ImageDataGenerator\nfrom keras.callbacks import LearningRateScheduler",
      "execution_count": 2,
      "outputs": []
    },
    {
      "metadata": {
        "_uuid": "2430b299e9455404723cdbaecc8d55331af54aeb",
        "collapsed": true,
        "_cell_guid": "8028dc1e-6d6b-468f-a779-bb7c4aeda133",
        "trusted": true
      },
      "cell_type": "code",
      "source": "train_file = \"../input/train.csv\"\ntest_file = \"../input/test.csv\"\noutput_file = \"submission.csv\"",
      "execution_count": 3,
      "outputs": []
    },
    {
      "metadata": {
        "_uuid": "ff0f135815d49c1103a78fe7258bc07688fe4570",
        "collapsed": true,
        "_cell_guid": "a163ffd9-7ac3-4e79-aafc-8fb88c5937d8",
        "trusted": true
      },
      "cell_type": "code",
      "source": "# train set\ntrain = pd.read_csv(\"../input/train.csv\")\ntrain_Y = train[\"label\"]\ntrain_X = train.drop(labels = [\"label\"],axis = 1)",
      "execution_count": 4,
      "outputs": []
    },
    {
      "metadata": {
        "_uuid": "d14aa0791133eef49bacf62697767c449b41596f",
        "collapsed": true,
        "_cell_guid": "2275852a-ce1d-4809-8638-0d6f3d86fa86",
        "trusted": true
      },
      "cell_type": "code",
      "source": "# test set\ntest = pd.read_csv(test_file)",
      "execution_count": 5,
      "outputs": []
    },
    {
      "metadata": {
        "_uuid": "a74d4dd009fafc5f2d87fca577404756443a41e0",
        "_cell_guid": "87350a86-27ee-47d3-b4aa-8b99dd32179f",
        "scrolled": true,
        "trusted": true
      },
      "cell_type": "code",
      "source": "fig = sns.countplot(train_Y)\ntrain_Y.value_counts()",
      "execution_count": 6,
      "outputs": [
        {
          "output_type": "execute_result",
          "execution_count": 6,
          "data": {
            "text/plain": "1    4684\n7    4401\n3    4351\n9    4188\n2    4177\n6    4137\n0    4132\n4    4072\n8    4063\n5    3795\nName: label, dtype: int64"
          },
          "metadata": {}
        },
        {
          "output_type": "display_data",
          "data": {
            "text/plain": "<matplotlib.figure.Figure at 0x7f1abb6aeb00>",
            "image/png": "[encoded data removed]"
          },
          "metadata": {}
        }
      ]
    },
    {
      "metadata": {
        "_uuid": "79627fdf02afb9fd0b8a136679a4f74b7ed2825d",
        "_cell_guid": "ce94dfdb-7244-49ee-8088-f0e688a54391",
        "trusted": true
      },
      "cell_type": "code",
      "source": "test.isnull().any().describe()",
      "execution_count": 7,
      "outputs": [
        {
          "output_type": "execute_result",
          "execution_count": 7,
          "data": {
            "text/plain": "count       784\nunique        1\ntop       False\nfreq        784\ndtype: object"
          },
          "metadata": {}
        }
      ]
    },
    {
      "metadata": {
        "_uuid": "8542ce93137e1df5a8dd3a762df75c04d02cc261",
        "collapsed": true,
        "_cell_guid": "de498f9c-5d09-4c2f-84a3-6abec5b16371",
        "trusted": true
      },
      "cell_type": "code",
      "source": "# Normalization\ntrain_X = train_X / 255.",
      "execution_count": 8,
      "outputs": []
    },
    {
      "metadata": {
        "_uuid": "4d873811502fd8fa1038e78e68b06f4de41d2c1b",
        "collapsed": true,
        "_cell_guid": "9ab87ac3-d12c-438e-aaab-4fe3ea7f2b11",
        "trusted": true
      },
      "cell_type": "code",
      "source": "# the image should be width = height = 28, channel = 1\n# reshape\ntrain_X = train_X.values.reshape(-1, 28, 28, 1)",
      "execution_count": 9,
      "outputs": []
    },
    {
      "metadata": {
        "_uuid": "0b77e03ca2afb227b6995ca0ce4d49b7251cb164",
        "_cell_guid": "27fecdf4-ab05-47d9-b159-f2e2125f3bc5",
        "trusted": true
      },
      "cell_type": "code",
      "source": "print(train_X.shape)",
      "execution_count": 10,
      "outputs": [
        {
          "output_type": "stream",
          "text": "(42000, 28, 28, 1)\n",
          "name": "stdout"
        }
      ]
    },
    {
      "metadata": {
        "_uuid": "52a0e537524cb271e1547b3840bc360dccc098db",
        "collapsed": true,
        "_cell_guid": "1170b34e-584d-4a1b-bd2b-1ad0af49507c",
        "_kg_hide-output": false,
        "_kg_hide-input": false,
        "trusted": true
      },
      "cell_type": "code",
      "source": "# lable encoding to one-hot key\n# example 2 -> [0,0,1,0,0,0,0,0,0,0]\ntrain_Y = to_categorical(train_Y, num_classes=10)",
      "execution_count": 11,
      "outputs": []
    },
    {
      "metadata": {
        "_uuid": "96baf996690f95408f6ff5d35bf099d1c3b5c996",
        "_cell_guid": "707993ee-8e8a-43a3-8de2-18082f887f2b",
        "scrolled": false,
        "trusted": true
      },
      "cell_type": "code",
      "source": "train_Y[:5]",
      "execution_count": 12,
      "outputs": [
        {
          "output_type": "execute_result",
          "execution_count": 12,
          "data": {
            "text/plain": "array([[0., 1., 0., 0., 0., 0., 0., 0., 0., 0.],\n       [1., 0., 0., 0., 0., 0., 0., 0., 0., 0.],\n       [0., 1., 0., 0., 0., 0., 0., 0., 0., 0.],\n       [0., 0., 0., 0., 1., 0., 0., 0., 0., 0.],\n       [1., 0., 0., 0., 0., 0., 0., 0., 0., 0.]])"
          },
          "metadata": {}
        }
      ]
    },
    {
      "metadata": {
        "_uuid": "d61f8dab2351e8f3ed02dc1642cb063df4bdcd68",
        "collapsed": true,
        "_cell_guid": "bee5c18a-861a-43fb-b4a2-68a7d15b8086",
        "trusted": true
      },
      "cell_type": "code",
      "source": "seed = 2",
      "execution_count": 13,
      "outputs": []
    },
    {
      "metadata": {
        "_uuid": "529e0ff08a3bd56e8db4aa9afc67691bce2b2be7",
        "collapsed": true,
        "_cell_guid": "bac65293-ee64-40d2-8dfc-2927f4b53c4d",
        "trusted": true
      },
      "cell_type": "code",
      "source": "# split the train set into train set into train and dev set\ntrain_X, dev_X, train_Y, dev_Y = train_test_split(train_X, train_Y, test_size=0.1, random_state=seed)",
      "execution_count": 14,
      "outputs": []
    },
    {
      "metadata": {
        "_uuid": "ebdd03319c80a597e6c3073b3e236c35ee519888",
        "_cell_guid": "649d5561-1728-4f35-9a33-eb615461e7d4",
        "trusted": true
      },
      "cell_type": "code",
      "source": "fig = plt.imshow(train_X[0][:,:,0])",
      "execution_count": 15,
      "outputs": [
        {
          "output_type": "display_data",
          "data": {
            "text/plain": "<matplotlib.figure.Figure at 0x7f1aba76c240>",
            "image/png": "[encoded data removed]"
          },
          "metadata": {}
        }
      ]
    },
    {
      "metadata": {
        "_uuid": "b2d9a6b69fd4143b94b1b3924e8005487ce5101d",
        "_cell_guid": "3bb7496f-2557-4684-a7d5-5efed52f030c"
      },
      "cell_type": "markdown",
      "source": "## Let's try the simple softmax\n\nThe model like input->(FL)softmax\n\nHere need to reshape train_X to (#example number, width*heigth*channel) be the input"
    },
    {
      "metadata": {
        "_uuid": "e0fe5c817a61251aa36239069798fe3b54b1ee06",
        "collapsed": true,
        "_cell_guid": "ccb7fac1-e63a-42bf-90e5-d0ff1bf08eaa",
        "trusted": true
      },
      "cell_type": "code",
      "source": "train_X_SS = train_X.reshape(train_X.shape[0], -1)\ntrain_X_SS, dev_X_SS, train_Y_SS, dev_Y_SS = train_test_split(train_X_SS, train_Y, test_size=0.1, random_state=seed)",
      "execution_count": 16,
      "outputs": []
    },
    {
      "metadata": {
        "_uuid": "8052d40a74f13901e54749926fa02163339cbf80",
        "_cell_guid": "41211311-c6ca-4fc7-b11a-8240dad674cf",
        "trusted": true,
        "collapsed": true
      },
      "cell_type": "code",
      "source": "simple_softmax_model = Sequential()\nsimple_softmax_model.add(Dense(10, input_dim=train_X_SS.shape[1], activation='softmax'))\n\nsimple_softmax_model.compile(loss='categorical_crossentropy', optimizer=Adam(lr=1e-4), metrics=['accuracy'])",
      "execution_count": 17,
      "outputs": []
    },
    {
      "metadata": {
        "_uuid": "52de6057f5268b8d9ad9c018faa7de35e02f19e5",
        "_cell_guid": "8db7a04b-e054-44cc-9529-b0cd35d9e4fc",
        "trusted": true
      },
      "cell_type": "code",
      "source": "print(\"training---------------\")\nsimple_softmax_model.fit(train_X_SS, train_Y_SS, epochs=20, batch_size=23)\n\nprint(\"testing----------------\")\nloss, accuracy = simple_softmax_model.evaluate(dev_X_SS, dev_Y_SS)\n\nprint(\"test loss:\", loss)\nprint(\"test accuracy:\", accuracy)",
      "execution_count": 18,
      "outputs": [
        {
          "output_type": "stream",
          "text": "training---------------\nEpoch 1/20\n34020/34020 [==============================] - 12s 352us/step - loss: 1.2676 - acc: 0.6964\nEpoch 2/20\n34020/34020 [==============================] - 5s 158us/step - loss: 0.6419 - acc: 0.8559\nEpoch 3/20\n34020/34020 [==============================] - 5s 159us/step - loss: 0.4960 - acc: 0.8776\nEpoch 4/20\n34020/34020 [==============================] - 5s 159us/step - loss: 0.4304 - acc: 0.8878\nEpoch 5/20\n34020/34020 [==============================] - 5s 159us/step - loss: 0.3933 - acc: 0.8949\nEpoch 6/20\n34020/34020 [==============================] - 5s 159us/step - loss: 0.3692 - acc: 0.9004\nEpoch 7/20\n34020/34020 [==============================] - 5s 157us/step - loss: 0.3523 - acc: 0.9036\nEpoch 8/20\n34020/34020 [==============================] - 5s 159us/step - loss: 0.3396 - acc: 0.9073\nEpoch 9/20\n34020/34020 [==============================] - 5s 160us/step - loss: 0.3296 - acc: 0.9098\nEpoch 10/20\n34020/34020 [==============================] - 5s 159us/step - loss: 0.3214 - acc: 0.9116\nEpoch 11/20\n34020/34020 [==============================] - 5s 161us/step - loss: 0.3147 - acc: 0.9129\nEpoch 12/20\n34020/34020 [==============================] - 5s 161us/step - loss: 0.3092 - acc: 0.9145\nEpoch 13/20\n34020/34020 [==============================] - 5s 159us/step - loss: 0.3041 - acc: 0.9155\nEpoch 14/20\n34020/34020 [==============================] - 5s 160us/step - loss: 0.2999 - acc: 0.9166\nEpoch 15/20\n34020/34020 [==============================] - 5s 160us/step - loss: 0.2960 - acc: 0.9178\nEpoch 16/20\n34020/34020 [==============================] - 5s 160us/step - loss: 0.2926 - acc: 0.9192\nEpoch 17/20\n34020/34020 [==============================] - 5s 157us/step - loss: 0.2895 - acc: 0.9188\nEpoch 18/20\n34020/34020 [==============================] - 5s 161us/step - loss: 0.2868 - acc: 0.9198\nEpoch 19/20\n34020/34020 [==============================] - 5s 159us/step - loss: 0.2841 - acc: 0.9204\nEpoch 20/20\n34020/34020 [==============================] - 5s 160us/step - loss: 0.2818 - acc: 0.9211\ntesting----------------\n3780/3780 [==============================] - 0s 55us/step\ntest loss: 0.3001393364850806\ntest accuracy: 0.9166666666666666\n",
          "name": "stdout"
        }
      ]
    },
    {
      "metadata": {
        "_uuid": "c4df3929cb6eb24a6050958a02960cdbd386f8bd",
        "_cell_guid": "c2254b22-b200-485e-8e0b-e5221e6be8d1"
      },
      "cell_type": "markdown",
      "source": "## Try to add some hiden layers like relu"
    },
    {
      "metadata": {
        "_uuid": "9f103bc92cfac77bfd72da5ce0cad40254717816",
        "_cell_guid": "e1db9c26-ea7c-4513-b0f8-0d6e2e81da81",
        "trusted": true,
        "collapsed": true
      },
      "cell_type": "code",
      "source": "simple_softmax_model_v2 = Sequential()\nsimple_softmax_model_v2.add(Dense(32, input_dim=train_X_SS.shape[1], activation='relu'))\nsimple_softmax_model_v2.add(Dense(16, activation='relu'))\nsimple_softmax_model_v2.add(Dense(8, activation='relu'))\nsimple_softmax_model_v2.add(Dense(10, activation='softmax'))\n\nsimple_softmax_model_v2.compile(loss='categorical_crossentropy', optimizer=Adam(lr=1e-4), metrics=['accuracy'])",
      "execution_count": 19,
      "outputs": []
    },
    {
      "metadata": {
        "_uuid": "29bb34a59ca52d86bcab8f28b4927248abca7df4",
        "_cell_guid": "40a6b736-82cf-4c7b-b61e-ce668abf50d5",
        "scrolled": true,
        "trusted": true
      },
      "cell_type": "code",
      "source": "print(\"training---------------\")\nsimple_softmax_model_v2.fit(train_X_SS, train_Y_SS, epochs=20, batch_size=23)\n\nprint(\"testing----------------\")\nloss, accuracy = simple_softmax_model_v2.evaluate(dev_X_SS, dev_Y_SS)\n\nprint(\"test loss:\", loss)\nprint(\"test accuracy:\", accuracy)",
      "execution_count": 20,
      "outputs": [
        {
          "output_type": "stream",
          "text": "training---------------\nEpoch 1/20\n34020/34020 [==============================] - 8s 225us/step - loss: 1.5851 - acc: 0.4575\nEpoch 2/20\n34020/34020 [==============================] - 7s 216us/step - loss: 0.6578 - acc: 0.8242\nEpoch 3/20\n34020/34020 [==============================] - 7s 213us/step - loss: 0.4633 - acc: 0.8740\nEpoch 4/20\n34020/34020 [==============================] - 7s 216us/step - loss: 0.3887 - acc: 0.8933\nEpoch 5/20\n34020/34020 [==============================] - 7s 217us/step - loss: 0.3466 - acc: 0.9034\nEpoch 6/20\n34020/34020 [==============================] - 8s 221us/step - loss: 0.3171 - acc: 0.9110\nEpoch 7/20\n34020/34020 [==============================] - 7s 215us/step - loss: 0.2951 - acc: 0.9168\nEpoch 8/20\n34020/34020 [==============================] - 7s 216us/step - loss: 0.2782 - acc: 0.9213\nEpoch 9/20\n34020/34020 [==============================] - 7s 213us/step - loss: 0.2635 - acc: 0.9255\nEpoch 10/20\n34020/34020 [==============================] - 7s 214us/step - loss: 0.2499 - acc: 0.9291\nEpoch 11/20\n34020/34020 [==============================] - 7s 215us/step - loss: 0.2380 - acc: 0.9316\nEpoch 12/20\n34020/34020 [==============================] - 7s 216us/step - loss: 0.2272 - acc: 0.9355\nEpoch 13/20\n34020/34020 [==============================] - 7s 214us/step - loss: 0.2171 - acc: 0.9384\nEpoch 14/20\n34020/34020 [==============================] - 7s 218us/step - loss: 0.2085 - acc: 0.9403\nEpoch 15/20\n34020/34020 [==============================] - 7s 218us/step - loss: 0.2004 - acc: 0.9431\nEpoch 16/20\n34020/34020 [==============================] - 7s 215us/step - loss: 0.1919 - acc: 0.9455\nEpoch 17/20\n34020/34020 [==============================] - 7s 215us/step - loss: 0.1852 - acc: 0.9477\nEpoch 18/20\n34020/34020 [==============================] - 7s 216us/step - loss: 0.1781 - acc: 0.9498\nEpoch 19/20\n34020/34020 [==============================] - 7s 216us/step - loss: 0.1722 - acc: 0.9510\nEpoch 20/20\n34020/34020 [==============================] - 7s 218us/step - loss: 0.1661 - acc: 0.9529\ntesting----------------\n3780/3780 [==============================] - 0s 65us/step\ntest loss: 0.2019270072459544\ntest accuracy: 0.9407407407407408\n",
          "name": "stdout"
        }
      ]
    },
    {
      "metadata": {
        "_uuid": "8ccbbaf5142e23bed2badb87d07c536c9c0ee70f",
        "_cell_guid": "f5bd6eb4-b36f-478d-b430-be4be719850a"
      },
      "cell_type": "markdown",
      "source": "## The more hidden layers"
    },
    {
      "metadata": {
        "_uuid": "925236ca0063744bd1bd2c3232f68879ce057d8f",
        "collapsed": true,
        "_cell_guid": "5f11258b-e5bd-4e87-81ff-4de83420ebc2",
        "trusted": true
      },
      "cell_type": "code",
      "source": "simple_softmax_model_v3 = Sequential()\nsimple_softmax_model_v3.add(Dense(32, input_dim=train_X_SS.shape[1], activation='relu'))\nsimple_softmax_model_v3.add(Dense(16, activation='relu'))\nsimple_softmax_model_v3.add(Dense(8, activation='relu'))\nsimple_softmax_model_v3.add(Dense(4, activation='relu'))\nsimple_softmax_model_v3.add(Dense(2, activation='relu'))\nsimple_softmax_model_v3.add(Dense(10, activation='softmax'))\n\nsimple_softmax_model_v3.compile(loss='categorical_crossentropy', optimizer=Adam(lr=1e-4), metrics=['accuracy'])",
      "execution_count": 23,
      "outputs": []
    },
    {
      "metadata": {
        "_uuid": "022549b39dbe45f85fdcc183e7f8c5ab82d757de",
        "_cell_guid": "3bc9ebee-6350-47d3-844c-5d4927a222bb",
        "trusted": true,
        "scrolled": false
      },
      "cell_type": "code",
      "source": "# the model is relu(32)->relu(16)->relu(8)->relu(4)->relu(2)\nprint(\"training---------------\")\nsimple_softmax_model_v3.fit(train_X_SS, train_Y_SS, epochs=20, batch_size=23)\n\nprint(\"testing----------------\")\nloss, accuracy = simple_softmax_model_v3.evaluate(dev_X_SS, dev_Y_SS)\n\nprint(\"test loss:\", loss)\nprint(\"test accuracy:\", accuracy)",
      "execution_count": 24,
      "outputs": [
        {
          "output_type": "stream",
          "text": "training---------------\nEpoch 1/20\n34020/34020 [==============================] - 9s 266us/step - loss: 2.0268 - acc: 0.2770\nEpoch 2/20\n34020/34020 [==============================] - 9s 258us/step - loss: 1.6027 - acc: 0.3887\nEpoch 3/20\n34020/34020 [==============================] - 9s 254us/step - loss: 1.4240 - acc: 0.4431\nEpoch 4/20\n34020/34020 [==============================] - 9s 256us/step - loss: 1.3168 - acc: 0.4912\nEpoch 5/20\n34020/34020 [==============================] - 9s 255us/step - loss: 1.2318 - acc: 0.5465\nEpoch 6/20\n34020/34020 [==============================] - 9s 261us/step - loss: 1.1542 - acc: 0.6184\nEpoch 7/20\n34020/34020 [==============================] - 9s 256us/step - loss: 1.0790 - acc: 0.6810\nEpoch 8/20\n34020/34020 [==============================] - 9s 256us/step - loss: 1.0121 - acc: 0.7169\nEpoch 9/20\n34020/34020 [==============================] - 9s 258us/step - loss: 0.9559 - acc: 0.7366\nEpoch 10/20\n34020/34020 [==============================] - 9s 256us/step - loss: 0.9087 - acc: 0.7532\nEpoch 11/20\n34020/34020 [==============================] - 9s 255us/step - loss: 0.8676 - acc: 0.7608\nEpoch 12/20\n34020/34020 [==============================] - 9s 256us/step - loss: 0.8329 - acc: 0.7664\nEpoch 13/20\n34020/34020 [==============================] - 9s 255us/step - loss: 0.8008 - acc: 0.7730\nEpoch 14/20\n34020/34020 [==============================] - 9s 256us/step - loss: 0.7716 - acc: 0.7783\nEpoch 15/20\n34020/34020 [==============================] - 9s 255us/step - loss: 0.7458 - acc: 0.7834\nEpoch 16/20\n34020/34020 [==============================] - 9s 258us/step - loss: 0.7200 - acc: 0.7858\nEpoch 17/20\n34020/34020 [==============================] - 9s 254us/step - loss: 0.6978 - acc: 0.7922\nEpoch 18/20\n34020/34020 [==============================] - 9s 260us/step - loss: 0.6761 - acc: 0.7990\nEpoch 19/20\n34020/34020 [==============================] - 9s 255us/step - loss: 0.6560 - acc: 0.8088\nEpoch 20/20\n34020/34020 [==============================] - 9s 252us/step - loss: 0.6367 - acc: 0.8123\ntesting----------------\n3780/3780 [==============================] - 0s 80us/step\ntest loss: 0.6882363740413908\ntest accuracy: 0.7968253968253968\n",
          "name": "stdout"
        }
      ]
    },
    {
      "metadata": {
        "_uuid": "5ce40f92c39ff6b7db573135f3edc0eb785144fe"
      },
      "cell_type": "markdown",
      "source": "### Something happened,  may the nurel in the last layers too little\n\n最后几层的神经网络的神经元数可能太少了，造成信息损失的问题。（调整神经网络的结构）\n\n或者是出现了，梯度消失，梯度爆炸的问题。（学习速率衰减）"
    },
    {
      "metadata": {
        "_uuid": "4a9b01407d44db031de65c5ad3cbb8dfdccbfbf4"
      },
      "cell_type": "markdown",
      "source": "## 调整网络结构，每层神经元数加倍"
    },
    {
      "metadata": {
        "_uuid": "925236ca0063744bd1bd2c3232f68879ce057d8f",
        "collapsed": true,
        "_cell_guid": "5f11258b-e5bd-4e87-81ff-4de83420ebc2",
        "trusted": true
      },
      "cell_type": "code",
      "source": "simple_softmax_model_v4 = Sequential()\nsimple_softmax_model_v4.add(Dense(64, input_dim=train_X_SS.shape[1], activation='relu'))\nsimple_softmax_model_v4.add(Dense(32, activation='relu'))\nsimple_softmax_model_v4.add(Dense(16, activation='relu'))\nsimple_softmax_model_v4.add(Dense(8, activation='relu'))\nsimple_softmax_model_v4.add(Dense(10, activation='softmax'))\n\nsimple_softmax_model_v4.compile(loss='categorical_crossentropy', optimizer=Adam(lr=1e-4), metrics=['accuracy'])",
      "execution_count": 26,
      "outputs": []
    },
    {
      "metadata": {
        "_uuid": "a76fa7733724e6bc525b98fdcb1a916d9918b356",
        "_cell_guid": "7e29246a-9141-47d1-9cd3-7703f5b6623e",
        "trusted": true,
        "scrolled": false
      },
      "cell_type": "code",
      "source": "# the model is relu(64)->relu(32)->relu(16)->relu(8)->softmax(10)\nprint(\"training---------------\")\nsimple_softmax_model_v4.fit(train_X_SS, train_Y_SS, epochs=20, batch_size=23)\n\nprint(\"testing----------------\")\nloss, accuracy = simple_softmax_model_v4.evaluate(dev_X_SS, dev_Y_SS)\n\nprint(\"test loss:\", loss)\nprint(\"test accuracy:\", accuracy)",
      "execution_count": 28,
      "outputs": [
        {
          "output_type": "stream",
          "text": "training---------------\nEpoch 1/20\n34020/34020 [==============================] - 8s 230us/step - loss: 0.0817 - acc: 0.9783\nEpoch 2/20\n34020/34020 [==============================] - 8s 239us/step - loss: 0.0773 - acc: 0.9790\nEpoch 3/20\n34020/34020 [==============================] - 8s 239us/step - loss: 0.0738 - acc: 0.9792\nEpoch 4/20\n34020/34020 [==============================] - 8s 236us/step - loss: 0.0706 - acc: 0.9803\nEpoch 5/20\n34020/34020 [==============================] - 8s 242us/step - loss: 0.0671 - acc: 0.9818\nEpoch 6/20\n34020/34020 [==============================] - 8s 236us/step - loss: 0.0641 - acc: 0.9825\nEpoch 7/20\n34020/34020 [==============================] - 8s 237us/step - loss: 0.0610 - acc: 0.9830\nEpoch 8/20\n34020/34020 [==============================] - 8s 235us/step - loss: 0.0582 - acc: 0.9843\nEpoch 9/20\n34020/34020 [==============================] - 8s 236us/step - loss: 0.0553 - acc: 0.9848\nEpoch 10/20\n34020/34020 [==============================] - 8s 238us/step - loss: 0.0527 - acc: 0.9862\nEpoch 11/20\n34020/34020 [==============================] - 8s 235us/step - loss: 0.0504 - acc: 0.9864\nEpoch 12/20\n34020/34020 [==============================] - 8s 236us/step - loss: 0.0478 - acc: 0.9872\nEpoch 13/20\n34020/34020 [==============================] - 8s 237us/step - loss: 0.0449 - acc: 0.9878\nEpoch 14/20\n34020/34020 [==============================] - 8s 238us/step - loss: 0.0436 - acc: 0.9887\nEpoch 15/20\n34020/34020 [==============================] - 8s 236us/step - loss: 0.0411 - acc: 0.9892\nEpoch 16/20\n34020/34020 [==============================] - 8s 237us/step - loss: 0.0387 - acc: 0.9897\nEpoch 17/20\n34020/34020 [==============================] - 8s 236us/step - loss: 0.0371 - acc: 0.9906\nEpoch 18/20\n34020/34020 [==============================] - 8s 237us/step - loss: 0.0349 - acc: 0.9909\nEpoch 19/20\n34020/34020 [==============================] - 8s 236us/step - loss: 0.0338 - acc: 0.9916\nEpoch 20/20\n34020/34020 [==============================] - 8s 237us/step - loss: 0.0313 - acc: 0.9923\ntesting----------------\n3780/3780 [==============================] - 0s 56us/step\ntest loss: 0.148187274449362\ntest accuracy: 0.9603174603174603\n",
          "name": "stdout"
        }
      ]
    },
    {
      "metadata": {
        "_uuid": "99019166ebbf6b671672f27c85dd226da0f81c4a"
      },
      "cell_type": "markdown",
      "source": "### 可以看到情况已经有了很大的改善，现在加入学习速率衰减，加入dropout防止过拟合。"
    },
    {
      "metadata": {
        "_uuid": "925236ca0063744bd1bd2c3232f68879ce057d8f",
        "collapsed": true,
        "_cell_guid": "5f11258b-e5bd-4e87-81ff-4de83420ebc2",
        "trusted": true
      },
      "cell_type": "code",
      "source": "simple_softmax_model_v5 = Sequential()\nsimple_softmax_model_v5.add(Dense(64, input_dim=train_X_SS.shape[1], activation='relu'))\nsimple_softmax_model_v5.add(Dropout(0.25))\nsimple_softmax_model_v5.add(Dense(32, activation='relu'))\nsimple_softmax_model_v5.add(Dropout(0.25))\nsimple_softmax_model_v5.add(Dense(16, activation='relu'))\nsimple_softmax_model_v5.add(Dropout(0.25))\nsimple_softmax_model_v5.add(Dense(8, activation='relu'))\nsimple_softmax_model_v5.add(Dropout(0.25))\nsimple_softmax_model_v5.add(Dense(10, activation='softmax'))\n\nsimple_softmax_model_v5.compile(loss='categorical_crossentropy', optimizer=Adam(lr=1e-4), metrics=['accuracy'])",
      "execution_count": 31,
      "outputs": []
    },
    {
      "metadata": {
        "trusted": true,
        "_uuid": "e67d6efb8738ae9220754114abf32b85020de67f"
      },
      "cell_type": "code",
      "source": "# the model is relu(64)->relu(32)->relu(16)->relu(8)->softmax(10)\nannealer = LearningRateScheduler(lambda x: 1e-3 * 0.9 ** x)\n\nprint(\"training---------------\")\nsimple_softmax_model_v5.fit(train_X_SS, train_Y_SS, epochs=40, batch_size=23, callbacks=[annealer])\n\nprint(\"testing----------------\")\nloss, accuracy = simple_softmax_model_v5.evaluate(dev_X_SS, dev_Y_SS)\n\nprint(\"test loss:\", loss)\nprint(\"test accuracy:\", accuracy)",
      "execution_count": 33,
      "outputs": [
        {
          "output_type": "stream",
          "text": "training---------------\nEpoch 1/40\n34020/34020 [==============================] - 9s 257us/step - loss: 0.5163 - acc: 0.8487\nEpoch 2/40\n34020/34020 [==============================] - 9s 261us/step - loss: 0.5230 - acc: 0.8445\nEpoch 3/40\n34020/34020 [==============================] - 9s 261us/step - loss: 0.5017 - acc: 0.8534\nEpoch 4/40\n34020/34020 [==============================] - 9s 266us/step - loss: 0.4967 - acc: 0.8516\nEpoch 5/40\n34020/34020 [==============================] - 9s 262us/step - loss: 0.4763 - acc: 0.8601\nEpoch 6/40\n34020/34020 [==============================] - 9s 262us/step - loss: 0.4633 - acc: 0.8636\nEpoch 7/40\n34020/34020 [==============================] - 9s 266us/step - loss: 0.4589 - acc: 0.8660\nEpoch 8/40\n34020/34020 [==============================] - 9s 267us/step - loss: 0.4374 - acc: 0.8733\nEpoch 9/40\n34020/34020 [==============================] - 9s 264us/step - loss: 0.4360 - acc: 0.8708\nEpoch 10/40\n34020/34020 [==============================] - 9s 265us/step - loss: 0.4389 - acc: 0.8718\nEpoch 11/40\n34020/34020 [==============================] - 9s 267us/step - loss: 0.4190 - acc: 0.8763\nEpoch 12/40\n34020/34020 [==============================] - 9s 264us/step - loss: 0.4181 - acc: 0.8772\nEpoch 13/40\n34020/34020 [==============================] - 9s 262us/step - loss: 0.4124 - acc: 0.8781\nEpoch 14/40\n34020/34020 [==============================] - 9s 266us/step - loss: 0.4063 - acc: 0.8792\nEpoch 15/40\n34020/34020 [==============================] - 9s 264us/step - loss: 0.4026 - acc: 0.8808\nEpoch 16/40\n34020/34020 [==============================] - 9s 263us/step - loss: 0.3897 - acc: 0.8838\nEpoch 17/40\n34020/34020 [==============================] - 9s 268us/step - loss: 0.3967 - acc: 0.8842\nEpoch 18/40\n34020/34020 [==============================] - 9s 263us/step - loss: 0.3883 - acc: 0.8862\nEpoch 19/40\n34020/34020 [==============================] - 9s 266us/step - loss: 0.3911 - acc: 0.8859\nEpoch 20/40\n34020/34020 [==============================] - 9s 266us/step - loss: 0.3833 - acc: 0.8858\nEpoch 21/40\n34020/34020 [==============================] - 9s 269us/step - loss: 0.3800 - acc: 0.8866\nEpoch 22/40\n34020/34020 [==============================] - 9s 267us/step - loss: 0.3874 - acc: 0.8860\nEpoch 23/40\n34020/34020 [==============================] - 9s 265us/step - loss: 0.3766 - acc: 0.8871\nEpoch 24/40\n34020/34020 [==============================] - 9s 266us/step - loss: 0.3769 - acc: 0.8894\nEpoch 25/40\n34020/34020 [==============================] - 9s 273us/step - loss: 0.3878 - acc: 0.8870\nEpoch 26/40\n34020/34020 [==============================] - 9s 268us/step - loss: 0.3799 - acc: 0.8878\nEpoch 27/40\n34020/34020 [==============================] - 9s 267us/step - loss: 0.3790 - acc: 0.8869\nEpoch 28/40\n34020/34020 [==============================] - 9s 270us/step - loss: 0.3764 - acc: 0.8889\nEpoch 29/40\n34020/34020 [==============================] - 9s 268us/step - loss: 0.3701 - acc: 0.8909\nEpoch 30/40\n34020/34020 [==============================] - 9s 268us/step - loss: 0.3714 - acc: 0.8915\nEpoch 31/40\n34020/34020 [==============================] - 9s 269us/step - loss: 0.3770 - acc: 0.8872\nEpoch 32/40\n34020/34020 [==============================] - 9s 267us/step - loss: 0.3739 - acc: 0.8899\nEpoch 33/40\n34020/34020 [==============================] - 9s 268us/step - loss: 0.3693 - acc: 0.8916\nEpoch 34/40\n34020/34020 [==============================] - 9s 270us/step - loss: 0.3645 - acc: 0.8924\nEpoch 35/40\n34020/34020 [==============================] - 9s 266us/step - loss: 0.3715 - acc: 0.8902\nEpoch 36/40\n34020/34020 [==============================] - 9s 269us/step - loss: 0.3689 - acc: 0.8915\nEpoch 37/40\n34020/34020 [==============================] - 9s 268us/step - loss: 0.3670 - acc: 0.8917\nEpoch 38/40\n34020/34020 [==============================] - 9s 267us/step - loss: 0.3642 - acc: 0.8929\nEpoch 39/40\n34020/34020 [==============================] - 9s 268us/step - loss: 0.3727 - acc: 0.8901\nEpoch 40/40\n34020/34020 [==============================] - 9s 269us/step - loss: 0.3617 - acc: 0.8913\ntesting----------------\n3780/3780 [==============================] - 0s 61us/step\ntest loss: 0.25342976867896383\ntest accuracy: 0.9595238095238096\n",
          "name": "stdout"
        }
      ]
    },
    {
      "metadata": {
        "_uuid": "08219f79a6ccf27315c5a5d61b2277565b8b0cb3"
      },
      "cell_type": "markdown",
      "source": "## 加入BatchNormal层\n\nBN层的作用\n\n（1）加速收敛 （2）控制过拟合，可以少用或不用Dropout和正则 （3）降低网络对初始化权重不敏感 （4）允许使用较大的学习率"
    },
    {
      "metadata": {
        "trusted": true,
        "_uuid": "218392d62a24f5521ec10143a9610f3c5efe44c7"
      },
      "cell_type": "code",
      "source": "simple_softmax_model_v7 = Sequential()\nsimple_softmax_model_v7.add(Dense(64, input_dim=train_X_SS.shape[1], activation='relu'))\nsimple_softmax_model_v7.add(BatchNormalization())\nsimple_softmax_model_v7.add(Dropout(0.25))\nsimple_softmax_model_v7.add(Dense(32, activation='relu'))\nsimple_softmax_model_v7.add(BatchNormalization())\nsimple_softmax_model_v7.add(Dropout(0.25))\nsimple_softmax_model_v7.add(Dense(16, activation='relu'))\nsimple_softmax_model_v7.add(BatchNormalization())\nsimple_softmax_model_v7.add(Dropout(0.25))\nsimple_softmax_model_v7.add(Dense(8, activation='relu'))\nsimple_softmax_model_v7.add(BatchNormalization())\nsimple_softmax_model_v7.add(Dropout(0.25))\nsimple_softmax_model_v7.add(Dense(10, activation='softmax'))\n\nsimple_softmax_model_v7.compile(loss='categorical_crossentropy', optimizer=Adam(lr=1e-4), metrics=['accuracy'])",
      "execution_count": 35,
      "outputs": []
    },
    {
      "metadata": {
        "trusted": true,
        "scrolled": false,
        "_uuid": "a296642819bb46aad8b6ff8fa071502113c0c956"
      },
      "cell_type": "code",
      "source": "# the model is relu(64)->relu(32)->relu(16)->relu(8)->softmax(10)\nannealer = LearningRateScheduler(lambda x: 1e-3 * 0.9 ** x)\n\nprint(\"training---------------\")\nsimple_softmax_model_v7.fit(train_X_SS, train_Y_SS, epochs=40, batch_size=23, callbacks=[annealer])\n\nprint(\"testing----------------\")\nloss, accuracy = simple_softmax_model_v7.evaluate(dev_X_SS, dev_Y_SS)\n\nprint(\"test loss:\", loss)\nprint(\"test accuracy:\", accuracy)",
      "execution_count": 36,
      "outputs": [
        {
          "output_type": "stream",
          "text": "training---------------\nEpoch 1/40\n34020/34020 [==============================] - 20s 590us/step - loss: 1.4114 - acc: 0.5295\nEpoch 2/40\n34020/34020 [==============================] - 18s 543us/step - loss: 0.8811 - acc: 0.7283\nEpoch 3/40\n34020/34020 [==============================] - 18s 541us/step - loss: 0.7458 - acc: 0.7806\nEpoch 4/40\n34020/34020 [==============================] - 18s 543us/step - loss: 0.6615 - acc: 0.8071\nEpoch 5/40\n34020/34020 [==============================] - 18s 543us/step - loss: 0.6161 - acc: 0.8212\nEpoch 6/40\n34020/34020 [==============================] - 18s 543us/step - loss: 0.5749 - acc: 0.8354\nEpoch 7/40\n34020/34020 [==============================] - 18s 544us/step - loss: 0.5443 - acc: 0.8431\nEpoch 8/40\n34020/34020 [==============================] - 18s 541us/step - loss: 0.5161 - acc: 0.8501\nEpoch 9/40\n34020/34020 [==============================] - 19s 546us/step - loss: 0.5050 - acc: 0.8578\nEpoch 10/40\n34020/34020 [==============================] - 19s 545us/step - loss: 0.4914 - acc: 0.8613\nEpoch 11/40\n34020/34020 [==============================] - 19s 554us/step - loss: 0.4707 - acc: 0.8649\nEpoch 12/40\n34020/34020 [==============================] - 18s 541us/step - loss: 0.4519 - acc: 0.8718\nEpoch 13/40\n34020/34020 [==============================] - 18s 543us/step - loss: 0.4496 - acc: 0.8730\nEpoch 14/40\n34020/34020 [==============================] - 19s 544us/step - loss: 0.4412 - acc: 0.8741\nEpoch 15/40\n34020/34020 [==============================] - 19s 545us/step - loss: 0.4333 - acc: 0.8787\nEpoch 16/40\n34020/34020 [==============================] - 18s 540us/step - loss: 0.4286 - acc: 0.8809\nEpoch 17/40\n34020/34020 [==============================] - 18s 542us/step - loss: 0.4223 - acc: 0.8810\nEpoch 18/40\n34020/34020 [==============================] - 19s 549us/step - loss: 0.4142 - acc: 0.8822\nEpoch 19/40\n34020/34020 [==============================] - 19s 545us/step - loss: 0.4185 - acc: 0.8833\nEpoch 20/40\n34020/34020 [==============================] - 19s 546us/step - loss: 0.4088 - acc: 0.8850\nEpoch 21/40\n34020/34020 [==============================] - 18s 543us/step - loss: 0.4039 - acc: 0.8865\nEpoch 22/40\n34020/34020 [==============================] - 18s 540us/step - loss: 0.3947 - acc: 0.8866\nEpoch 23/40\n34020/34020 [==============================] - 18s 539us/step - loss: 0.3948 - acc: 0.8867\nEpoch 24/40\n34020/34020 [==============================] - 18s 540us/step - loss: 0.3990 - acc: 0.8877\nEpoch 25/40\n34020/34020 [==============================] - 18s 542us/step - loss: 0.3885 - acc: 0.8894\nEpoch 26/40\n34020/34020 [==============================] - 18s 538us/step - loss: 0.3935 - acc: 0.8880\nEpoch 27/40\n34020/34020 [==============================] - 18s 541us/step - loss: 0.3896 - acc: 0.8903\nEpoch 28/40\n34020/34020 [==============================] - 18s 536us/step - loss: 0.3884 - acc: 0.8908\nEpoch 29/40\n34020/34020 [==============================] - 18s 531us/step - loss: 0.3940 - acc: 0.8900\nEpoch 30/40\n34020/34020 [==============================] - 18s 534us/step - loss: 0.3840 - acc: 0.8907\nEpoch 31/40\n34020/34020 [==============================] - 18s 535us/step - loss: 0.3811 - acc: 0.8917\nEpoch 32/40\n34020/34020 [==============================] - 18s 536us/step - loss: 0.3829 - acc: 0.8923\nEpoch 33/40\n34020/34020 [==============================] - 18s 536us/step - loss: 0.3806 - acc: 0.8926\nEpoch 34/40\n34020/34020 [==============================] - 18s 542us/step - loss: 0.3754 - acc: 0.8961\nEpoch 35/40\n34020/34020 [==============================] - 18s 539us/step - loss: 0.3786 - acc: 0.8918\nEpoch 36/40\n34020/34020 [==============================] - 18s 537us/step - loss: 0.3817 - acc: 0.8931\nEpoch 37/40\n34020/34020 [==============================] - 18s 539us/step - loss: 0.3732 - acc: 0.8938\nEpoch 38/40\n34020/34020 [==============================] - 18s 541us/step - loss: 0.3710 - acc: 0.8949\nEpoch 39/40\n34020/34020 [==============================] - 19s 544us/step - loss: 0.3749 - acc: 0.8958\nEpoch 40/40\n34020/34020 [==============================] - 18s 543us/step - loss: 0.3803 - acc: 0.8924\ntesting----------------\n3780/3780 [==============================] - 1s 141us/step\ntest loss: 0.13504201670487723\ntest accuracy: 0.9613756613756613\n",
          "name": "stdout"
        }
      ]
    },
    {
      "metadata": {
        "_uuid": "60e82b5731dd73bca1bc9f89c6c64aaddb11480a"
      },
      "cell_type": "markdown",
      "source": "## 加入BatchNormal后，可以看到现在Epoch的时间加倍，并且准确率和v4版本差异不大"
    },
    {
      "metadata": {
        "_uuid": "b1b5ede63464db993c509ba64215eefdad4da418",
        "_cell_guid": "c062e318-4955-4c70-a89a-477a73d82527"
      },
      "cell_type": "markdown",
      "source": "## 由于数字图片每个像素，或者是数字部分是存在结构的，我们可以尝试使用CNN，对图片的特征进行提取"
    },
    {
      "metadata": {
        "_uuid": "1b9c397ec7890ac95fd2fdcbdd465723eae1b57c"
      },
      "cell_type": "markdown",
      "source": "### **mark**:此处的输入，应该为未经一维化的的源图像。"
    },
    {
      "metadata": {
        "trusted": true,
        "collapsed": true,
        "_uuid": "b7b64cc33fe979c18cfc93c77b2a37f73d2decd3"
      },
      "cell_type": "code",
      "source": "cnn_model_v1 = Sequential()\n\ncnn_model_v1.add(Conv2D(filters=16, kernel_size=(3,3), activation='relu', input_shape=(28,28,1)))\ncnn_model_v1.add(BatchNormalization())\ncnn_model_v1.add(Conv2D(filters=16, kernel_size=(3,3), activation='relu'))\ncnn_model_v1.add(BatchNormalization())\ncnn_model_v1.add(MaxPool2D(strides=(2,2)))\ncnn_model_v1.add(Dropout(0.25))\n\ncnn_model_v1.add(Flatten())\ncnn_model_v1.add(Dense(512, activation='relu'))\ncnn_model_v1.add(Dropout(0.25))\ncnn_model_v1.add(Dense(1024, activation='relu'))\ncnn_model_v1.add(Dropout(0.5))\ncnn_model_v1.add(Dense(10, activation='softmax'))\ncnn_model_v1.compile(loss='categorical_crossentropy', optimizer=Adam(lr=1e-4), metrics=['accuracy'])",
      "execution_count": 39,
      "outputs": []
    },
    {
      "metadata": {
        "trusted": true,
        "scrolled": false,
        "_uuid": "10db97766a2501d61c177bf0a71a3659102835df"
      },
      "cell_type": "code",
      "source": "cnn_model_v1.fit(train_X, train_Y, epochs=20, batch_size=23, callbacks=[annealer])\nloss, acc = cnn_model_v1.evaluate(dev_X, dev_Y)\n\nprint(\"test loss:\", loss)\nprint(\"test accuary\", acc)",
      "execution_count": 41,
      "outputs": [
        {
          "output_type": "stream",
          "text": "Epoch 1/20\n37800/37800 [==============================] - 23s 613us/step - loss: 0.0786 - acc: 0.9816\nEpoch 2/20\n37800/37800 [==============================] - 23s 613us/step - loss: 0.0451 - acc: 0.9880\nEpoch 3/20\n37800/37800 [==============================] - 23s 610us/step - loss: 0.0377 - acc: 0.9899\nEpoch 4/20\n37800/37800 [==============================] - 23s 609us/step - loss: 0.0285 - acc: 0.9923\nEpoch 5/20\n37800/37800 [==============================] - 23s 607us/step - loss: 0.0251 - acc: 0.9937\nEpoch 6/20\n37800/37800 [==============================] - 23s 616us/step - loss: 0.0210 - acc: 0.9947\nEpoch 7/20\n37800/37800 [==============================] - 23s 610us/step - loss: 0.0141 - acc: 0.9961\nEpoch 8/20\n37800/37800 [==============================] - 23s 608us/step - loss: 0.0122 - acc: 0.9966\nEpoch 9/20\n37800/37800 [==============================] - 23s 611us/step - loss: 0.0124 - acc: 0.9969\nEpoch 10/20\n37800/37800 [==============================] - 23s 608us/step - loss: 0.0079 - acc: 0.9977\nEpoch 11/20\n37800/37800 [==============================] - 23s 608us/step - loss: 0.0086 - acc: 0.9974\nEpoch 12/20\n37800/37800 [==============================] - 23s 609us/step - loss: 0.0068 - acc: 0.9981\nEpoch 13/20\n37800/37800 [==============================] - 23s 611us/step - loss: 0.0055 - acc: 0.9983\nEpoch 14/20\n37800/37800 [==============================] - 23s 610us/step - loss: 0.0042 - acc: 0.9989\nEpoch 15/20\n37800/37800 [==============================] - 23s 611us/step - loss: 0.0045 - acc: 0.9987\nEpoch 16/20\n37800/37800 [==============================] - 23s 609us/step - loss: 0.0055 - acc: 0.9984\nEpoch 17/20\n37800/37800 [==============================] - 23s 606us/step - loss: 0.0026 - acc: 0.9991\nEpoch 18/20\n37800/37800 [==============================] - 23s 607us/step - loss: 0.0030 - acc: 0.9992\nEpoch 19/20\n37800/37800 [==============================] - 23s 608us/step - loss: 0.0021 - acc: 0.9994\nEpoch 20/20\n37800/37800 [==============================] - 23s 614us/step - loss: 0.0039 - acc: 0.9990\n4200/4200 [==============================] - 1s 180us/step\ntest loss: 0.04506340660915601\ntest accuary 0.9933333333333333\n",
          "name": "stdout"
        }
      ]
    },
    {
      "metadata": {
        "_uuid": "b0d3617953dc458de562ea579a3c748f228e85cd"
      },
      "cell_type": "markdown",
      "source": "### 可以看到，准确率上升的比较快，迅速归于99%+，充分证明的在图片分类过程中，加入CNN提取图片特征的必要性。\n### 但是Epoch的时间很长，有没有什么解决办法。"
    },
    {
      "metadata": {
        "_uuid": "d6714fbe9671eac4ee04c1ec6c77700076fe2012"
      },
      "cell_type": "markdown",
      "source": "# 增加神经网络的深度，增加图片生成技术，间接增大数据集"
    },
    {
      "metadata": {
        "_uuid": "d5b0e363a567417d34e66c4bec04455c3452440f",
        "collapsed": true,
        "_cell_guid": "cb5cfa06-9ba9-45a8-b6af-24f6aa2005d0",
        "trusted": true
      },
      "cell_type": "code",
      "source": "model = Sequential()\n\nmodel.add(Conv2D(filters=16, kernel_size=(3,3), activation='relu',\n                input_shape=(28,28,1)))\nmodel.add(BatchNormalization())\nmodel.add(Conv2D(filters=16, kernel_size=(3,3), activation='relu'))\nmodel.add(BatchNormalization())\nmodel.add(MaxPool2D(strides=(2,2)))\nmodel.add(Dropout(0.25))\n\nmodel.add(Conv2D(filters=32, kernel_size=(3,3), activation='relu'))\nmodel.add(BatchNormalization())\nmodel.add(Conv2D(filters=32, kernel_size=(3,3), activation='relu'))\nmodel.add(BatchNormalization())\nmodel.add(MaxPool2D(strides=(2,2)))\nmodel.add(Dropout(0.25))\n\n# fully connection\nmodel.add(Flatten())\nmodel.add(Dense(512, activation='relu'))\nmodel.add(Dropout(0.25))\nmodel.add(Dense(1024, activation='relu'))\nmodel.add(Dropout(0.5))\nmodel.add(Dense(10, activation='softmax'))",
      "execution_count": 42,
      "outputs": []
    },
    {
      "metadata": {
        "_uuid": "80f2999e7261c5d5b69193662a0d4cd81ca0bf45",
        "collapsed": true,
        "_cell_guid": "608600de-a79c-4f6f-833e-7cae5ccb7fc6",
        "trusted": true
      },
      "cell_type": "code",
      "source": "datagen = ImageDataGenerator(zoom_range=0.1, height_shift_range=0.1, width_shift_range=0.1, rotation_range=10)",
      "execution_count": 43,
      "outputs": []
    },
    {
      "metadata": {
        "_uuid": "eb71a15a6dc62e47888620c567bae74a1c58d9da",
        "collapsed": true,
        "_cell_guid": "dfa39e25-0189-43f9-b7d3-f4eee741a55c",
        "trusted": true
      },
      "cell_type": "code",
      "source": "model.compile(loss='categorical_crossentropy', optimizer=Adam(lr=1e-4), metrics=['accuracy'])",
      "execution_count": 44,
      "outputs": []
    },
    {
      "metadata": {
        "_uuid": "4a55b803a3573ff299a45e914713cb2acf6e6a18",
        "collapsed": true,
        "_cell_guid": "245c56de-d7a3-460a-a7c0-7729b14eb2b7",
        "trusted": true
      },
      "cell_type": "code",
      "source": "annealer = LearningRateScheduler(lambda x: 1e-3 * 0.9 ** x)",
      "execution_count": 45,
      "outputs": []
    },
    {
      "metadata": {
        "_uuid": "136c732a8eff246693ed41dc3c52bf9a5717111b",
        "_cell_guid": "5e4390ef-99b6-4d18-947f-79dcac6fd27d",
        "trusted": true
      },
      "cell_type": "code",
      "source": "hist = model.fit_generator(datagen.flow(train_X, train_Y, batch_size=16),\n                           steps_per_epoch=500,\n                           epochs=20, #Increase this when not on Kaggle kernel\n                           verbose=2,  #1 for ETA, 0 for silent\n                           validation_data=(dev_X[:400,:], dev_Y[:400,:]), #For speed\n                           callbacks=[annealer])",
      "execution_count": 46,
      "outputs": [
        {
          "output_type": "stream",
          "text": "Epoch 1/20\n - 12s - loss: 0.8140 - acc: 0.7412 - val_loss: 0.1512 - val_acc: 0.9525\nEpoch 2/20\n - 10s - loss: 0.3249 - acc: 0.8995 - val_loss: 0.0781 - val_acc: 0.9800\nEpoch 3/20\n - 10s - loss: 0.2368 - acc: 0.9312 - val_loss: 0.0758 - val_acc: 0.9750\nEpoch 4/20\n - 10s - loss: 0.2096 - acc: 0.9404 - val_loss: 0.0649 - val_acc: 0.9700\nEpoch 5/20\n - 10s - loss: 0.1660 - acc: 0.9527 - val_loss: 0.0467 - val_acc: 0.9825\nEpoch 6/20\n - 10s - loss: 0.1581 - acc: 0.9535 - val_loss: 0.0639 - val_acc: 0.9850\nEpoch 7/20\n - 10s - loss: 0.1416 - acc: 0.9577 - val_loss: 0.0256 - val_acc: 0.9925\nEpoch 8/20\n - 10s - loss: 0.1472 - acc: 0.9600 - val_loss: 0.0358 - val_acc: 0.9925\nEpoch 9/20\n - 10s - loss: 0.1252 - acc: 0.9639 - val_loss: 0.0274 - val_acc: 0.9950\nEpoch 10/20\n - 10s - loss: 0.1061 - acc: 0.9698 - val_loss: 0.0269 - val_acc: 0.9925\nEpoch 11/20\n - 10s - loss: 0.1135 - acc: 0.9676 - val_loss: 0.0225 - val_acc: 0.9925\nEpoch 12/20\n - 10s - loss: 0.1025 - acc: 0.9715 - val_loss: 0.0114 - val_acc: 1.0000\nEpoch 13/20\n - 10s - loss: 0.1031 - acc: 0.9710 - val_loss: 0.0175 - val_acc: 0.9900\nEpoch 14/20\n - 10s - loss: 0.0939 - acc: 0.9726 - val_loss: 0.0093 - val_acc: 0.9950\nEpoch 15/20\n - 10s - loss: 0.0908 - acc: 0.9749 - val_loss: 0.0073 - val_acc: 1.0000\nEpoch 16/20\n - 10s - loss: 0.0966 - acc: 0.9726 - val_loss: 0.0105 - val_acc: 0.9975\nEpoch 17/20\n - 10s - loss: 0.0748 - acc: 0.9770 - val_loss: 0.0053 - val_acc: 1.0000\nEpoch 18/20\n - 10s - loss: 0.0791 - acc: 0.9780 - val_loss: 0.0047 - val_acc: 1.0000\nEpoch 19/20\n - 10s - loss: 0.0708 - acc: 0.9803 - val_loss: 0.0070 - val_acc: 0.9975\nEpoch 20/20\n - 10s - loss: 0.0663 - acc: 0.9811 - val_loss: 0.0050 - val_acc: 1.0000\n",
          "name": "stdout"
        }
      ]
    },
    {
      "metadata": {
        "_uuid": "1aa87705603ad7ca452ee25fbe1a7b5b682d0665",
        "_cell_guid": "f6745396-a151-412d-a388-d0473b17326a",
        "trusted": true
      },
      "cell_type": "code",
      "source": "final_loss, final_acc = model.evaluate(dev_X, dev_Y, verbose=0)\nprint(\"Final loss: {0:.4f}, final accuracy: {1:.4f}\".format(final_loss, final_acc))",
      "execution_count": 47,
      "outputs": [
        {
          "output_type": "stream",
          "text": "Final loss: 0.0249, final accuracy: 0.9933\n",
          "name": "stdout"
        }
      ]
    },
    {
      "metadata": {
        "_uuid": "fac62743bc7b1deb4590c69e1e2f3dea4069b3fc",
        "_cell_guid": "f1137291-20bc-485e-a9a2-15c6217cd73e",
        "trusted": true
      },
      "cell_type": "code",
      "source": "plt.plot(hist.history['loss'], color='b')\nplt.plot(hist.history['val_loss'], color='r')\nplt.show()\nplt.plot(hist.history['acc'], color='b')\nplt.plot(hist.history['val_acc'], color='r')\nplt.show()",
      "execution_count": 48,
      "outputs": [
        {
          "output_type": "display_data",
          "data": {
            "text/plain": "<matplotlib.figure.Figure at 0x7f1a36372390>",
            "image/png": "[encoded data removed]"
          },
          "metadata": {}
        },
        {
          "output_type": "display_data",
          "data": {
            "text/plain": "<matplotlib.figure.Figure at 0x7f1a3d7462e8>",
            "image/png": "[encoded data removed]"
          },
          "metadata": {}
        }
      ]
    },
    {
      "metadata": {
        "_uuid": "2fb994e464a7164b4b554dacc9adca5ebb114805",
        "collapsed": true,
        "_cell_guid": "ca9f107e-ad40-4d0e-8af9-8df9ef42ef41",
        "trusted": true
      },
      "cell_type": "code",
      "source": "mnist_testset = np.loadtxt(test_file, skiprows=1, dtype='int', delimiter=',')\nx_test = mnist_testset.astype(\"float32\")\nx_test = x_test.reshape(-1, 28, 28, 1)/255.",
      "execution_count": 49,
      "outputs": []
    },
    {
      "metadata": {
        "_uuid": "5ec4620ac4e814d1ab1743d4eb3acf6ec95dd6c4",
        "collapsed": true,
        "_cell_guid": "64c6871c-3cc1-425b-ab1c-634b34916a7d",
        "trusted": true
      },
      "cell_type": "code",
      "source": "y_hat = model.predict(x_test, batch_size=64)",
      "execution_count": 50,
      "outputs": []
    },
    {
      "metadata": {
        "_uuid": "24e33bf823a9d59b0772ec2ec60f2ecb37287691",
        "collapsed": true,
        "_cell_guid": "80c0abc5-c06c-49a3-8def-501d757f58af",
        "trusted": true
      },
      "cell_type": "code",
      "source": "y_pred = np.argmax(y_hat,axis=1)",
      "execution_count": 51,
      "outputs": []
    },
    {
      "metadata": {
        "_uuid": "eb193598f16567c031d6509841edc0fb18469c47",
        "collapsed": true,
        "_cell_guid": "2b3bfd76-a403-4d1a-b088-ecc878248c13",
        "trusted": true
      },
      "cell_type": "code",
      "source": "with open(output_file, 'w') as f :\n    f.write('ImageId,Label\\n')\n    for i in range(len(y_pred)) :\n        f.write(\"\".join([str(i+1),',',str(y_pred[i]),'\\n']))",
      "execution_count": 52,
      "outputs": []
    },
    {
      "metadata": {
        "_uuid": "e7619d5402e0991f59ea2d4e5966b82c11ac2852",
        "collapsed": true,
        "_cell_guid": "91315e88-f372-4473-8ccf-9876b8416c83",
        "trusted": false
      },
      "cell_type": "code",
      "source": "",
      "execution_count": null,
      "outputs": []
    }
  ],
  "metadata": {
    "kernelspec": {
      "display_name": "Python 3",
      "language": "python",
      "name": "python3"
    },
    "language_info": {
      "name": "python",
      "version": "3.6.4",
      "mimetype": "text/x-python",
      "codemirror_mode": {
        "name": "ipython",
        "version": 3
      },
      "pygments_lexer": "ipython3",
      "nbconvert_exporter": "python",
      "file_extension": ".py"
    }
  },
  "nbformat": 4,
  "nbformat_minor": 1
}